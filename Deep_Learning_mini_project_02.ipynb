{
  "nbformat": 4,
  "nbformat_minor": 0,
  "metadata": {
    "colab": {
      "provenance": []
    },
    "kernelspec": {
      "name": "python3",
      "display_name": "Python 3"
    },
    "language_info": {
      "name": "python"
    }
  },
  "cells": [
    {
      "cell_type": "code",
      "execution_count": 41,
      "metadata": {
        "id": "1wku8DGeOKV-"
      },
      "outputs": [],
      "source": [
        "import numpy as np\n",
        "import pandas as pd\n",
        "import matplotlib.pyplot as plt\n",
        "from sklearn.model_selection import train_test_split\n",
        "from sklearn.preprocessing import MinMaxScaler\n",
        "from tensorflow.keras.models import Sequential\n",
        "from tensorflow.keras.layers import LSTM, Dense"
      ]
    },
    {
      "cell_type": "code",
      "source": [
        "from google.colab import drive\n",
        "drive.mount('/content/drive')"
      ],
      "metadata": {
        "colab": {
          "base_uri": "https://localhost:8080/"
        },
        "id": "pONeyGSw107O",
        "outputId": "f1eaa242-731c-4504-f3f5-56756aba2d98"
      },
      "execution_count": 2,
      "outputs": [
        {
          "output_type": "stream",
          "name": "stdout",
          "text": [
            "Mounted at /content/drive\n"
          ]
        }
      ]
    },
    {
      "cell_type": "code",
      "source": [
        "path = ('/content/drive/My Drive/Deep_Learning_HS_2019_0484/mini2/DFCC Historical Data .csv')\n",
        "df = pd.read_csv(path)"
      ],
      "metadata": {
        "id": "24wSiFVk2Q7A"
      },
      "execution_count": 3,
      "outputs": []
    },
    {
      "cell_type": "code",
      "source": [
        "df.info()"
      ],
      "metadata": {
        "colab": {
          "base_uri": "https://localhost:8080/"
        },
        "id": "ERPqDznj240D",
        "outputId": "3c9120e2-9d43-4ff6-ae97-83ee1b10b904"
      },
      "execution_count": 5,
      "outputs": [
        {
          "output_type": "stream",
          "name": "stdout",
          "text": [
            "<class 'pandas.core.frame.DataFrame'>\n",
            "RangeIndex: 52 entries, 0 to 51\n",
            "Data columns (total 7 columns):\n",
            " #   Column    Non-Null Count  Dtype  \n",
            "---  ------    --------------  -----  \n",
            " 0   Date      52 non-null     object \n",
            " 1   Price     52 non-null     float64\n",
            " 2   Open      52 non-null     float64\n",
            " 3   High      52 non-null     float64\n",
            " 4   Low       52 non-null     float64\n",
            " 5   Vol.      52 non-null     object \n",
            " 6   Change %  52 non-null     object \n",
            "dtypes: float64(4), object(3)\n",
            "memory usage: 3.0+ KB\n"
          ]
        }
      ]
    },
    {
      "cell_type": "code",
      "source": [
        "df.head()"
      ],
      "metadata": {
        "colab": {
          "base_uri": "https://localhost:8080/",
          "height": 206
        },
        "id": "D0dXPkP152wy",
        "outputId": "6158d984-fbef-4596-9c77-2ae013c046fd"
      },
      "execution_count": 11,
      "outputs": [
        {
          "output_type": "execute_result",
          "data": {
            "text/plain": [
              "         Date  Price  Open  High   Low     Vol. Change %\n",
              "0  02/18/2024   75.5  78.8  79.5  75.0   30.20K   -4.19%\n",
              "1  02/11/2024   78.8  78.5  79.3  77.0   96.36K    0.38%\n",
              "2  02/04/2024   78.5  75.0  79.8  75.0   99.61K    2.08%\n",
              "3  01/28/2024   76.9  73.0  76.9  71.8  362.00K    4.20%\n",
              "4  01/21/2024   73.8  75.0  75.0  71.9   88.59K   -1.60%"
            ],
            "text/html": [
              "\n",
              "  <div id=\"df-00a9c095-b7e4-43ca-991e-a9a0fd802773\" class=\"colab-df-container\">\n",
              "    <div>\n",
              "<style scoped>\n",
              "    .dataframe tbody tr th:only-of-type {\n",
              "        vertical-align: middle;\n",
              "    }\n",
              "\n",
              "    .dataframe tbody tr th {\n",
              "        vertical-align: top;\n",
              "    }\n",
              "\n",
              "    .dataframe thead th {\n",
              "        text-align: right;\n",
              "    }\n",
              "</style>\n",
              "<table border=\"1\" class=\"dataframe\">\n",
              "  <thead>\n",
              "    <tr style=\"text-align: right;\">\n",
              "      <th></th>\n",
              "      <th>Date</th>\n",
              "      <th>Price</th>\n",
              "      <th>Open</th>\n",
              "      <th>High</th>\n",
              "      <th>Low</th>\n",
              "      <th>Vol.</th>\n",
              "      <th>Change %</th>\n",
              "    </tr>\n",
              "  </thead>\n",
              "  <tbody>\n",
              "    <tr>\n",
              "      <th>0</th>\n",
              "      <td>02/18/2024</td>\n",
              "      <td>75.5</td>\n",
              "      <td>78.8</td>\n",
              "      <td>79.5</td>\n",
              "      <td>75.0</td>\n",
              "      <td>30.20K</td>\n",
              "      <td>-4.19%</td>\n",
              "    </tr>\n",
              "    <tr>\n",
              "      <th>1</th>\n",
              "      <td>02/11/2024</td>\n",
              "      <td>78.8</td>\n",
              "      <td>78.5</td>\n",
              "      <td>79.3</td>\n",
              "      <td>77.0</td>\n",
              "      <td>96.36K</td>\n",
              "      <td>0.38%</td>\n",
              "    </tr>\n",
              "    <tr>\n",
              "      <th>2</th>\n",
              "      <td>02/04/2024</td>\n",
              "      <td>78.5</td>\n",
              "      <td>75.0</td>\n",
              "      <td>79.8</td>\n",
              "      <td>75.0</td>\n",
              "      <td>99.61K</td>\n",
              "      <td>2.08%</td>\n",
              "    </tr>\n",
              "    <tr>\n",
              "      <th>3</th>\n",
              "      <td>01/28/2024</td>\n",
              "      <td>76.9</td>\n",
              "      <td>73.0</td>\n",
              "      <td>76.9</td>\n",
              "      <td>71.8</td>\n",
              "      <td>362.00K</td>\n",
              "      <td>4.20%</td>\n",
              "    </tr>\n",
              "    <tr>\n",
              "      <th>4</th>\n",
              "      <td>01/21/2024</td>\n",
              "      <td>73.8</td>\n",
              "      <td>75.0</td>\n",
              "      <td>75.0</td>\n",
              "      <td>71.9</td>\n",
              "      <td>88.59K</td>\n",
              "      <td>-1.60%</td>\n",
              "    </tr>\n",
              "  </tbody>\n",
              "</table>\n",
              "</div>\n",
              "    <div class=\"colab-df-buttons\">\n",
              "\n",
              "  <div class=\"colab-df-container\">\n",
              "    <button class=\"colab-df-convert\" onclick=\"convertToInteractive('df-00a9c095-b7e4-43ca-991e-a9a0fd802773')\"\n",
              "            title=\"Convert this dataframe to an interactive table.\"\n",
              "            style=\"display:none;\">\n",
              "\n",
              "  <svg xmlns=\"http://www.w3.org/2000/svg\" height=\"24px\" viewBox=\"0 -960 960 960\">\n",
              "    <path d=\"M120-120v-720h720v720H120Zm60-500h600v-160H180v160Zm220 220h160v-160H400v160Zm0 220h160v-160H400v160ZM180-400h160v-160H180v160Zm440 0h160v-160H620v160ZM180-180h160v-160H180v160Zm440 0h160v-160H620v160Z\"/>\n",
              "  </svg>\n",
              "    </button>\n",
              "\n",
              "  <style>\n",
              "    .colab-df-container {\n",
              "      display:flex;\n",
              "      gap: 12px;\n",
              "    }\n",
              "\n",
              "    .colab-df-convert {\n",
              "      background-color: #E8F0FE;\n",
              "      border: none;\n",
              "      border-radius: 50%;\n",
              "      cursor: pointer;\n",
              "      display: none;\n",
              "      fill: #1967D2;\n",
              "      height: 32px;\n",
              "      padding: 0 0 0 0;\n",
              "      width: 32px;\n",
              "    }\n",
              "\n",
              "    .colab-df-convert:hover {\n",
              "      background-color: #E2EBFA;\n",
              "      box-shadow: 0px 1px 2px rgba(60, 64, 67, 0.3), 0px 1px 3px 1px rgba(60, 64, 67, 0.15);\n",
              "      fill: #174EA6;\n",
              "    }\n",
              "\n",
              "    .colab-df-buttons div {\n",
              "      margin-bottom: 4px;\n",
              "    }\n",
              "\n",
              "    [theme=dark] .colab-df-convert {\n",
              "      background-color: #3B4455;\n",
              "      fill: #D2E3FC;\n",
              "    }\n",
              "\n",
              "    [theme=dark] .colab-df-convert:hover {\n",
              "      background-color: #434B5C;\n",
              "      box-shadow: 0px 1px 3px 1px rgba(0, 0, 0, 0.15);\n",
              "      filter: drop-shadow(0px 1px 2px rgba(0, 0, 0, 0.3));\n",
              "      fill: #FFFFFF;\n",
              "    }\n",
              "  </style>\n",
              "\n",
              "    <script>\n",
              "      const buttonEl =\n",
              "        document.querySelector('#df-00a9c095-b7e4-43ca-991e-a9a0fd802773 button.colab-df-convert');\n",
              "      buttonEl.style.display =\n",
              "        google.colab.kernel.accessAllowed ? 'block' : 'none';\n",
              "\n",
              "      async function convertToInteractive(key) {\n",
              "        const element = document.querySelector('#df-00a9c095-b7e4-43ca-991e-a9a0fd802773');\n",
              "        const dataTable =\n",
              "          await google.colab.kernel.invokeFunction('convertToInteractive',\n",
              "                                                    [key], {});\n",
              "        if (!dataTable) return;\n",
              "\n",
              "        const docLinkHtml = 'Like what you see? Visit the ' +\n",
              "          '<a target=\"_blank\" href=https://colab.research.google.com/notebooks/data_table.ipynb>data table notebook</a>'\n",
              "          + ' to learn more about interactive tables.';\n",
              "        element.innerHTML = '';\n",
              "        dataTable['output_type'] = 'display_data';\n",
              "        await google.colab.output.renderOutput(dataTable, element);\n",
              "        const docLink = document.createElement('div');\n",
              "        docLink.innerHTML = docLinkHtml;\n",
              "        element.appendChild(docLink);\n",
              "      }\n",
              "    </script>\n",
              "  </div>\n",
              "\n",
              "\n",
              "<div id=\"df-5338c461-dd23-4a52-b64f-9d074b5feeb9\">\n",
              "  <button class=\"colab-df-quickchart\" onclick=\"quickchart('df-5338c461-dd23-4a52-b64f-9d074b5feeb9')\"\n",
              "            title=\"Suggest charts\"\n",
              "            style=\"display:none;\">\n",
              "\n",
              "<svg xmlns=\"http://www.w3.org/2000/svg\" height=\"24px\"viewBox=\"0 0 24 24\"\n",
              "     width=\"24px\">\n",
              "    <g>\n",
              "        <path d=\"M19 3H5c-1.1 0-2 .9-2 2v14c0 1.1.9 2 2 2h14c1.1 0 2-.9 2-2V5c0-1.1-.9-2-2-2zM9 17H7v-7h2v7zm4 0h-2V7h2v10zm4 0h-2v-4h2v4z\"/>\n",
              "    </g>\n",
              "</svg>\n",
              "  </button>\n",
              "\n",
              "<style>\n",
              "  .colab-df-quickchart {\n",
              "      --bg-color: #E8F0FE;\n",
              "      --fill-color: #1967D2;\n",
              "      --hover-bg-color: #E2EBFA;\n",
              "      --hover-fill-color: #174EA6;\n",
              "      --disabled-fill-color: #AAA;\n",
              "      --disabled-bg-color: #DDD;\n",
              "  }\n",
              "\n",
              "  [theme=dark] .colab-df-quickchart {\n",
              "      --bg-color: #3B4455;\n",
              "      --fill-color: #D2E3FC;\n",
              "      --hover-bg-color: #434B5C;\n",
              "      --hover-fill-color: #FFFFFF;\n",
              "      --disabled-bg-color: #3B4455;\n",
              "      --disabled-fill-color: #666;\n",
              "  }\n",
              "\n",
              "  .colab-df-quickchart {\n",
              "    background-color: var(--bg-color);\n",
              "    border: none;\n",
              "    border-radius: 50%;\n",
              "    cursor: pointer;\n",
              "    display: none;\n",
              "    fill: var(--fill-color);\n",
              "    height: 32px;\n",
              "    padding: 0;\n",
              "    width: 32px;\n",
              "  }\n",
              "\n",
              "  .colab-df-quickchart:hover {\n",
              "    background-color: var(--hover-bg-color);\n",
              "    box-shadow: 0 1px 2px rgba(60, 64, 67, 0.3), 0 1px 3px 1px rgba(60, 64, 67, 0.15);\n",
              "    fill: var(--button-hover-fill-color);\n",
              "  }\n",
              "\n",
              "  .colab-df-quickchart-complete:disabled,\n",
              "  .colab-df-quickchart-complete:disabled:hover {\n",
              "    background-color: var(--disabled-bg-color);\n",
              "    fill: var(--disabled-fill-color);\n",
              "    box-shadow: none;\n",
              "  }\n",
              "\n",
              "  .colab-df-spinner {\n",
              "    border: 2px solid var(--fill-color);\n",
              "    border-color: transparent;\n",
              "    border-bottom-color: var(--fill-color);\n",
              "    animation:\n",
              "      spin 1s steps(1) infinite;\n",
              "  }\n",
              "\n",
              "  @keyframes spin {\n",
              "    0% {\n",
              "      border-color: transparent;\n",
              "      border-bottom-color: var(--fill-color);\n",
              "      border-left-color: var(--fill-color);\n",
              "    }\n",
              "    20% {\n",
              "      border-color: transparent;\n",
              "      border-left-color: var(--fill-color);\n",
              "      border-top-color: var(--fill-color);\n",
              "    }\n",
              "    30% {\n",
              "      border-color: transparent;\n",
              "      border-left-color: var(--fill-color);\n",
              "      border-top-color: var(--fill-color);\n",
              "      border-right-color: var(--fill-color);\n",
              "    }\n",
              "    40% {\n",
              "      border-color: transparent;\n",
              "      border-right-color: var(--fill-color);\n",
              "      border-top-color: var(--fill-color);\n",
              "    }\n",
              "    60% {\n",
              "      border-color: transparent;\n",
              "      border-right-color: var(--fill-color);\n",
              "    }\n",
              "    80% {\n",
              "      border-color: transparent;\n",
              "      border-right-color: var(--fill-color);\n",
              "      border-bottom-color: var(--fill-color);\n",
              "    }\n",
              "    90% {\n",
              "      border-color: transparent;\n",
              "      border-bottom-color: var(--fill-color);\n",
              "    }\n",
              "  }\n",
              "</style>\n",
              "\n",
              "  <script>\n",
              "    async function quickchart(key) {\n",
              "      const quickchartButtonEl =\n",
              "        document.querySelector('#' + key + ' button');\n",
              "      quickchartButtonEl.disabled = true;  // To prevent multiple clicks.\n",
              "      quickchartButtonEl.classList.add('colab-df-spinner');\n",
              "      try {\n",
              "        const charts = await google.colab.kernel.invokeFunction(\n",
              "            'suggestCharts', [key], {});\n",
              "      } catch (error) {\n",
              "        console.error('Error during call to suggestCharts:', error);\n",
              "      }\n",
              "      quickchartButtonEl.classList.remove('colab-df-spinner');\n",
              "      quickchartButtonEl.classList.add('colab-df-quickchart-complete');\n",
              "    }\n",
              "    (() => {\n",
              "      let quickchartButtonEl =\n",
              "        document.querySelector('#df-5338c461-dd23-4a52-b64f-9d074b5feeb9 button');\n",
              "      quickchartButtonEl.style.display =\n",
              "        google.colab.kernel.accessAllowed ? 'block' : 'none';\n",
              "    })();\n",
              "  </script>\n",
              "</div>\n",
              "\n",
              "    </div>\n",
              "  </div>\n"
            ],
            "application/vnd.google.colaboratory.intrinsic+json": {
              "type": "dataframe",
              "variable_name": "df",
              "repr_error": "'str' object has no attribute 'empty'"
            }
          },
          "metadata": {},
          "execution_count": 11
        }
      ]
    },
    {
      "cell_type": "code",
      "source": [
        "df['Price'].head()"
      ],
      "metadata": {
        "colab": {
          "base_uri": "https://localhost:8080/"
        },
        "id": "_AVouyT87lsy",
        "outputId": "4aea8632-0600-4778-9c3d-d71f1808b836"
      },
      "execution_count": 12,
      "outputs": [
        {
          "output_type": "execute_result",
          "data": {
            "text/plain": [
              "0    75.5\n",
              "1    78.8\n",
              "2    78.5\n",
              "3    76.9\n",
              "4    73.8\n",
              "Name: Price, dtype: float64"
            ]
          },
          "metadata": {},
          "execution_count": 12
        }
      ]
    },
    {
      "cell_type": "code",
      "source": [
        "df = df.replace({'Vol.': {'K': '*1e3', 'M': '*1e6', 'B': '*1e9'}}, regex=True)\n",
        "df['Vol.'] = pd.eval(df['Vol.']).astype(float)"
      ],
      "metadata": {
        "id": "wEGSbDge8dFL"
      },
      "execution_count": 15,
      "outputs": []
    },
    {
      "cell_type": "code",
      "source": [
        "df.dropna(inplace=True)"
      ],
      "metadata": {
        "id": "c7KArpwH8hsu"
      },
      "execution_count": 16,
      "outputs": []
    },
    {
      "cell_type": "code",
      "source": [
        "df['Change %'] = df['Change %'].replace({'%': ''}, regex=True).astype(float)"
      ],
      "metadata": {
        "id": "QOFziwtP9KvM"
      },
      "execution_count": 18,
      "outputs": []
    },
    {
      "cell_type": "code",
      "source": [
        "df.dropna(inplace=True)"
      ],
      "metadata": {
        "id": "u3gaG-xi9NYG"
      },
      "execution_count": 19,
      "outputs": []
    },
    {
      "cell_type": "code",
      "source": [
        "look_back = 7\n",
        "n_features = len(df.columns) - 1  # Number of features excluding 'Date'\n",
        "\n",
        "# Function to create dataset\n",
        "def create_dataset(dataset, look_back=1):\n",
        "    X, Y = [], []\n",
        "    for i in range(len(dataset) - look_back):\n",
        "        X.append(dataset[i:(i + look_back)])\n",
        "        Y.append(dataset[i + look_back])\n",
        "    return np.array(X), np.array(Y)\n",
        "\n",
        "# Preprocess the data\n",
        "data = df.iloc[:, 1:].values.astype('float32')\n",
        "scaler = MinMaxScaler(feature_range=(0, 1))\n",
        "scaled_data = scaler.fit_transform(data)\n",
        "\n",
        "# Create the dataset with look_back\n",
        "X, Y = create_dataset(scaled_data, look_back)\n",
        "\n",
        "# Split the data into training and testing sets (80-20 split)\n",
        "X_train, X_test, Y_train, Y_test = train_test_split(X, Y, test_size=0.2, shuffle=False)\n",
        "\n",
        "# Reshape input to be [samples, time steps, features]\n",
        "X_train = np.reshape(X_train, (X_train.shape[0], look_back, n_features))\n",
        "X_test = np.reshape(X_test, (X_test.shape[0], look_back, n_features))"
      ],
      "metadata": {
        "id": "4UsMmyIuMjww"
      },
      "execution_count": 49,
      "outputs": []
    },
    {
      "cell_type": "code",
      "source": [
        "model = Sequential()\n",
        "model.add(LSTM(50, input_shape=(look_back, n_features)))\n",
        "model.add(Dense(n_features))\n",
        "model.compile(optimizer='adam', loss='mean_squared_error')"
      ],
      "metadata": {
        "id": "FHwK6xIrM2V1"
      },
      "execution_count": 36,
      "outputs": []
    },
    {
      "cell_type": "markdown",
      "source": [
        " Train the model"
      ],
      "metadata": {
        "id": "iEwfD9U3NBXI"
      }
    },
    {
      "cell_type": "code",
      "source": [
        "model.fit(X_train, Y_train, epochs=100, batch_size=32)"
      ],
      "metadata": {
        "colab": {
          "base_uri": "https://localhost:8080/"
        },
        "id": "HX-AEck4M6fh",
        "outputId": "acb0f97c-0b9d-43a7-8279-9a42d7685c1e"
      },
      "execution_count": 50,
      "outputs": [
        {
          "output_type": "stream",
          "name": "stdout",
          "text": [
            "Epoch 1/100\n",
            "2/2 [==============================] - 1s 13ms/step - loss: 0.0182\n",
            "Epoch 2/100\n",
            "2/2 [==============================] - 0s 10ms/step - loss: 0.0128\n",
            "Epoch 3/100\n",
            "2/2 [==============================] - 0s 12ms/step - loss: 0.0110\n",
            "Epoch 4/100\n",
            "2/2 [==============================] - 0s 10ms/step - loss: 0.0135\n",
            "Epoch 5/100\n",
            "2/2 [==============================] - 0s 12ms/step - loss: 0.0144\n",
            "Epoch 6/100\n",
            "2/2 [==============================] - 0s 11ms/step - loss: 0.0124\n",
            "Epoch 7/100\n",
            "2/2 [==============================] - 0s 10ms/step - loss: 0.0107\n",
            "Epoch 8/100\n",
            "2/2 [==============================] - 0s 10ms/step - loss: 0.0110\n",
            "Epoch 9/100\n",
            "2/2 [==============================] - 0s 10ms/step - loss: 0.0120\n",
            "Epoch 10/100\n",
            "2/2 [==============================] - 0s 12ms/step - loss: 0.0124\n",
            "Epoch 11/100\n",
            "2/2 [==============================] - 0s 10ms/step - loss: 0.0122\n",
            "Epoch 12/100\n",
            "2/2 [==============================] - 0s 11ms/step - loss: 0.0123\n",
            "Epoch 13/100\n",
            "2/2 [==============================] - 0s 10ms/step - loss: 0.0122\n",
            "Epoch 14/100\n",
            "2/2 [==============================] - 0s 10ms/step - loss: 0.0112\n",
            "Epoch 15/100\n",
            "2/2 [==============================] - 0s 11ms/step - loss: 0.0107\n",
            "Epoch 16/100\n",
            "2/2 [==============================] - 0s 11ms/step - loss: 0.0110\n",
            "Epoch 17/100\n",
            "2/2 [==============================] - 0s 10ms/step - loss: 0.0113\n",
            "Epoch 18/100\n",
            "2/2 [==============================] - 0s 11ms/step - loss: 0.0110\n",
            "Epoch 19/100\n",
            "2/2 [==============================] - 0s 10ms/step - loss: 0.0107\n",
            "Epoch 20/100\n",
            "2/2 [==============================] - 0s 12ms/step - loss: 0.0106\n",
            "Epoch 21/100\n",
            "2/2 [==============================] - 0s 9ms/step - loss: 0.0104\n",
            "Epoch 22/100\n",
            "2/2 [==============================] - 0s 11ms/step - loss: 0.0102\n",
            "Epoch 23/100\n",
            "2/2 [==============================] - 0s 11ms/step - loss: 0.0101\n",
            "Epoch 24/100\n",
            "2/2 [==============================] - 0s 12ms/step - loss: 0.0102\n",
            "Epoch 25/100\n",
            "2/2 [==============================] - 0s 15ms/step - loss: 0.0104\n",
            "Epoch 26/100\n",
            "2/2 [==============================] - 0s 11ms/step - loss: 0.0105\n",
            "Epoch 27/100\n",
            "2/2 [==============================] - 0s 10ms/step - loss: 0.0103\n",
            "Epoch 28/100\n",
            "2/2 [==============================] - 0s 10ms/step - loss: 0.0102\n",
            "Epoch 29/100\n",
            "2/2 [==============================] - 0s 10ms/step - loss: 0.0103\n",
            "Epoch 30/100\n",
            "2/2 [==============================] - 0s 9ms/step - loss: 0.0102\n",
            "Epoch 31/100\n",
            "2/2 [==============================] - 0s 9ms/step - loss: 0.0102\n",
            "Epoch 32/100\n",
            "2/2 [==============================] - 0s 10ms/step - loss: 0.0103\n",
            "Epoch 33/100\n",
            "2/2 [==============================] - 0s 10ms/step - loss: 0.0099\n",
            "Epoch 34/100\n",
            "2/2 [==============================] - 0s 11ms/step - loss: 0.0101\n",
            "Epoch 35/100\n",
            "2/2 [==============================] - 0s 10ms/step - loss: 0.0102\n",
            "Epoch 36/100\n",
            "2/2 [==============================] - 0s 10ms/step - loss: 0.0099\n",
            "Epoch 37/100\n",
            "2/2 [==============================] - 0s 11ms/step - loss: 0.0097\n",
            "Epoch 38/100\n",
            "2/2 [==============================] - 0s 10ms/step - loss: 0.0098\n",
            "Epoch 39/100\n",
            "2/2 [==============================] - 0s 10ms/step - loss: 0.0102\n",
            "Epoch 40/100\n",
            "2/2 [==============================] - 0s 10ms/step - loss: 0.0105\n",
            "Epoch 41/100\n",
            "2/2 [==============================] - 0s 12ms/step - loss: 0.0103\n",
            "Epoch 42/100\n",
            "2/2 [==============================] - 0s 11ms/step - loss: 0.0099\n",
            "Epoch 43/100\n",
            "2/2 [==============================] - 0s 15ms/step - loss: 0.0096\n",
            "Epoch 44/100\n",
            "2/2 [==============================] - 0s 9ms/step - loss: 0.0098\n",
            "Epoch 45/100\n",
            "2/2 [==============================] - 0s 10ms/step - loss: 0.0100\n",
            "Epoch 46/100\n",
            "2/2 [==============================] - 0s 10ms/step - loss: 0.0099\n",
            "Epoch 47/100\n",
            "2/2 [==============================] - 0s 12ms/step - loss: 0.0097\n",
            "Epoch 48/100\n",
            "2/2 [==============================] - 0s 11ms/step - loss: 0.0096\n",
            "Epoch 49/100\n",
            "2/2 [==============================] - 0s 10ms/step - loss: 0.0097\n",
            "Epoch 50/100\n",
            "2/2 [==============================] - 0s 10ms/step - loss: 0.0099\n",
            "Epoch 51/100\n",
            "2/2 [==============================] - 0s 10ms/step - loss: 0.0097\n",
            "Epoch 52/100\n",
            "2/2 [==============================] - 0s 10ms/step - loss: 0.0095\n",
            "Epoch 53/100\n",
            "2/2 [==============================] - 0s 11ms/step - loss: 0.0101\n",
            "Epoch 54/100\n",
            "2/2 [==============================] - 0s 11ms/step - loss: 0.0104\n",
            "Epoch 55/100\n",
            "2/2 [==============================] - 0s 11ms/step - loss: 0.0099\n",
            "Epoch 56/100\n",
            "2/2 [==============================] - 0s 9ms/step - loss: 0.0097\n",
            "Epoch 57/100\n",
            "2/2 [==============================] - 0s 10ms/step - loss: 0.0097\n",
            "Epoch 58/100\n",
            "2/2 [==============================] - 0s 10ms/step - loss: 0.0096\n",
            "Epoch 59/100\n",
            "2/2 [==============================] - 0s 9ms/step - loss: 0.0096\n",
            "Epoch 60/100\n",
            "2/2 [==============================] - 0s 9ms/step - loss: 0.0095\n",
            "Epoch 61/100\n",
            "2/2 [==============================] - 0s 10ms/step - loss: 0.0096\n",
            "Epoch 62/100\n",
            "2/2 [==============================] - 0s 10ms/step - loss: 0.0095\n",
            "Epoch 63/100\n",
            "2/2 [==============================] - 0s 12ms/step - loss: 0.0093\n",
            "Epoch 64/100\n",
            "2/2 [==============================] - 0s 14ms/step - loss: 0.0095\n",
            "Epoch 65/100\n",
            "2/2 [==============================] - 0s 10ms/step - loss: 0.0100\n",
            "Epoch 66/100\n",
            "2/2 [==============================] - 0s 11ms/step - loss: 0.0103\n",
            "Epoch 67/100\n",
            "2/2 [==============================] - 0s 19ms/step - loss: 0.0102\n",
            "Epoch 68/100\n",
            "2/2 [==============================] - 0s 11ms/step - loss: 0.0097\n",
            "Epoch 69/100\n",
            "2/2 [==============================] - 0s 11ms/step - loss: 0.0093\n",
            "Epoch 70/100\n",
            "2/2 [==============================] - 0s 10ms/step - loss: 0.0101\n",
            "Epoch 71/100\n",
            "2/2 [==============================] - 0s 11ms/step - loss: 0.0109\n",
            "Epoch 72/100\n",
            "2/2 [==============================] - 0s 10ms/step - loss: 0.0111\n",
            "Epoch 73/100\n",
            "2/2 [==============================] - 0s 10ms/step - loss: 0.0107\n",
            "Epoch 74/100\n",
            "2/2 [==============================] - 0s 12ms/step - loss: 0.0099\n",
            "Epoch 75/100\n",
            "2/2 [==============================] - 0s 11ms/step - loss: 0.0095\n",
            "Epoch 76/100\n",
            "2/2 [==============================] - 0s 11ms/step - loss: 0.0096\n",
            "Epoch 77/100\n",
            "2/2 [==============================] - 0s 10ms/step - loss: 0.0100\n",
            "Epoch 78/100\n",
            "2/2 [==============================] - 0s 11ms/step - loss: 0.0103\n",
            "Epoch 79/100\n",
            "2/2 [==============================] - 0s 11ms/step - loss: 0.0100\n",
            "Epoch 80/100\n",
            "2/2 [==============================] - 0s 11ms/step - loss: 0.0095\n",
            "Epoch 81/100\n",
            "2/2 [==============================] - 0s 11ms/step - loss: 0.0092\n",
            "Epoch 82/100\n",
            "2/2 [==============================] - 0s 10ms/step - loss: 0.0097\n",
            "Epoch 83/100\n",
            "2/2 [==============================] - 0s 10ms/step - loss: 0.0099\n",
            "Epoch 84/100\n",
            "2/2 [==============================] - 0s 10ms/step - loss: 0.0096\n",
            "Epoch 85/100\n",
            "2/2 [==============================] - 0s 10ms/step - loss: 0.0092\n",
            "Epoch 86/100\n",
            "2/2 [==============================] - 0s 10ms/step - loss: 0.0094\n",
            "Epoch 87/100\n",
            "2/2 [==============================] - 0s 10ms/step - loss: 0.0099\n",
            "Epoch 88/100\n",
            "2/2 [==============================] - 0s 8ms/step - loss: 0.0095\n",
            "Epoch 89/100\n",
            "2/2 [==============================] - 0s 10ms/step - loss: 0.0093\n",
            "Epoch 90/100\n",
            "2/2 [==============================] - 0s 9ms/step - loss: 0.0095\n",
            "Epoch 91/100\n",
            "2/2 [==============================] - 0s 11ms/step - loss: 0.0095\n",
            "Epoch 92/100\n",
            "2/2 [==============================] - 0s 12ms/step - loss: 0.0092\n",
            "Epoch 93/100\n",
            "2/2 [==============================] - 0s 12ms/step - loss: 0.0090\n",
            "Epoch 94/100\n",
            "2/2 [==============================] - 0s 11ms/step - loss: 0.0092\n",
            "Epoch 95/100\n",
            "2/2 [==============================] - 0s 11ms/step - loss: 0.0094\n",
            "Epoch 96/100\n",
            "2/2 [==============================] - 0s 10ms/step - loss: 0.0093\n",
            "Epoch 97/100\n",
            "2/2 [==============================] - 0s 16ms/step - loss: 0.0092\n",
            "Epoch 98/100\n",
            "2/2 [==============================] - 0s 15ms/step - loss: 0.0092\n",
            "Epoch 99/100\n",
            "2/2 [==============================] - 0s 12ms/step - loss: 0.0092\n",
            "Epoch 100/100\n",
            "2/2 [==============================] - 0s 12ms/step - loss: 0.0092\n"
          ]
        },
        {
          "output_type": "execute_result",
          "data": {
            "text/plain": [
              "<keras.src.callbacks.History at 0x7bc2697a66e0>"
            ]
          },
          "metadata": {},
          "execution_count": 50
        }
      ]
    },
    {
      "cell_type": "markdown",
      "source": [
        "**Evaluate the model**"
      ],
      "metadata": {
        "id": "Oxe8sW5pNHqu"
      }
    },
    {
      "cell_type": "code",
      "source": [
        "loss = model.evaluate(X_test, Y_test)\n",
        "print(\"Test Loss:\", loss)"
      ],
      "metadata": {
        "colab": {
          "base_uri": "https://localhost:8080/"
        },
        "id": "2WM--SSENMgU",
        "outputId": "0b546a1b-cb00-4d84-a06c-9ffb1ba84fe9"
      },
      "execution_count": 51,
      "outputs": [
        {
          "output_type": "stream",
          "name": "stdout",
          "text": [
            "1/1 [==============================] - 0s 465ms/step - loss: 0.0046\n",
            "Test Loss: 0.0046365465968847275\n"
          ]
        }
      ]
    },
    {
      "cell_type": "markdown",
      "source": [
        "**Make predictions**"
      ],
      "metadata": {
        "id": "5dcK09dfNTUz"
      }
    },
    {
      "cell_type": "code",
      "source": [
        "predictions = model.predict(X_test)"
      ],
      "metadata": {
        "colab": {
          "base_uri": "https://localhost:8080/"
        },
        "id": "j1SLeT5VNWW1",
        "outputId": "db4a2971-0a28-43b2-84c5-a4b2f8b5d897"
      },
      "execution_count": 52,
      "outputs": [
        {
          "output_type": "stream",
          "name": "stdout",
          "text": [
            "1/1 [==============================] - 0s 418ms/step\n"
          ]
        }
      ]
    },
    {
      "cell_type": "code",
      "source": [
        "predictions = scaler.inverse_transform(predictions)\n",
        "Y_test = scaler.inverse_transform(Y_test)"
      ],
      "metadata": {
        "id": "J9DP7Y_wNeG6"
      },
      "execution_count": 55,
      "outputs": []
    },
    {
      "cell_type": "code",
      "source": [
        "# Inverse transform the test set to get the actual prices\n",
        "actual_prices = scaler.inverse_transform(Y_test)\n",
        "\n",
        "# Plot the actual prices\n",
        "plt.plot(actual_prices, label='Actual Prices', color='blue')\n",
        "\n",
        "# Inverse transform the predictions to get the forecasted prices\n",
        "forecasted_prices = scaler.inverse_transform(predictions)\n",
        "\n",
        "# Plot the forecasted prices\n",
        "plt.plot(forecasted_prices, label='Forecasted Prices', color='red')\n",
        "\n",
        "plt.title('Stock Price Prediction')\n",
        "plt.xlabel('Time')\n",
        "plt.ylabel('Price')\n",
        "plt.legend()\n",
        "plt.show()"
      ],
      "metadata": {
        "colab": {
          "base_uri": "https://localhost:8080/",
          "height": 472
        },
        "id": "UsOA2_Y0QKkT",
        "outputId": "22a0809f-8ce9-42d3-d28c-9733523f3929"
      },
      "execution_count": 56,
      "outputs": [
        {
          "output_type": "display_data",
          "data": {
            "text/plain": [
              "<Figure size 640x480 with 1 Axes>"
            ],
            "image/png": "[encoded data removed]"
          },
          "metadata": {}
        }
      ]
    }
  ]
}